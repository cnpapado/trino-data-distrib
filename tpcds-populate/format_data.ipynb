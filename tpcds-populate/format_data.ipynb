{
 "cells": [
  {
   "cell_type": "code",
   "execution_count": 40,
   "metadata": {},
   "outputs": [],
   "source": [
    "from pathlib2 import Path\n",
    "import os"
   ]
  },
  {
   "cell_type": "code",
   "execution_count": 62,
   "metadata": {},
   "outputs": [],
   "source": [
    "def replacetext(filepath, search_text, replace_text):\n",
    "\tfile = open(filepath, 'r', encoding = \"latin-1\")\n",
    "\tlines = file.readlines()\n",
    "\tmoded_lines = []\n",
    "\tfor line in lines:\n",
    "\t\tline = line.replace(search_text, replace_text)\n",
    "\t\tif line[-2] == \"|\":\n",
    "\t\t\tline = list(line)\n",
    "\t\t\tline[-2] = \"\"\n",
    "\t\t\tline = \"\".join(line) \n",
    "\t\telse:\n",
    "\t\t\tpass\n",
    "\t\t\t# print(\"No | character found in the end of row\")\n",
    "\t\tmoded_lines.append(line)\n",
    "\tfile.close()\n",
    "\n",
    "\tfile = open(filepath, 'w')\n",
    "\tfor line in moded_lines:\n",
    "\t\tfile.write(line)\n",
    "\tfile.close()\n"
   ]
  },
  {
   "cell_type": "code",
   "execution_count": 63,
   "metadata": {},
   "outputs": [
    {
     "name": "stdout",
     "output_type": "stream",
     "text": [
      "./data/customer_address.dat\n",
      "./data/warehouse.dat\n",
      "./data/promotion.dat\n",
      "./data/income_band.dat\n",
      "./data/temp\n",
      "./data/reason.dat\n",
      "./data/dbgen_version.dat\n",
      "./data/ship_mode.dat\n",
      "./data/call_center.dat\n",
      "./data/catalog_sales.dat\n",
      "./data/date_dim.dat\n",
      "./data/customer_demographics.dat\n",
      "./data/store.dat\n",
      "./data/inventory.dat\n",
      "./data/customer.dat\n",
      "./data/web_returns.dat\n",
      "./data/catalog_page.dat\n",
      "./data/store_returns.dat\n",
      "./data/web_sales.dat\n",
      "./data/web_site.dat\n",
      "./data/web_page.dat\n",
      "./data/household_demographics.dat\n",
      "./data/catalog_returns.dat\n",
      "./data/store_sales.dat\n",
      "./data/time_dim.dat\n",
      "./data/item.dat\n"
     ]
    }
   ],
   "source": [
    "search_text = \"\\\\N\"\n",
    "replace_text = \"null\"\n",
    "\n",
    "path = \"./data/\"\n",
    "data_files = os.listdir(path)\n",
    "\n",
    "for data_file in data_files:\n",
    "    filepath = path+data_file\n",
    "    print(filepath)\n",
    "    replacetext(filepath, search_text, replace_text)"
   ]
  },
  {
   "cell_type": "code",
   "execution_count": null,
   "metadata": {},
   "outputs": [],
   "source": []
  }
 ],
 "metadata": {
  "kernelspec": {
   "display_name": "Python 3",
   "language": "python",
   "name": "python3"
  },
  "language_info": {
   "codemirror_mode": {
    "name": "ipython",
    "version": 3
   },
   "file_extension": ".py",
   "mimetype": "text/x-python",
   "name": "python",
   "nbconvert_exporter": "python",
   "pygments_lexer": "ipython3",
   "version": "3.8.10 (default, Nov 14 2022, 12:59:47) \n[GCC 9.4.0]"
  },
  "orig_nbformat": 4,
  "vscode": {
   "interpreter": {
    "hash": "916dbcbb3f70747c44a77c7bcd40155683ae19c65e1c03b4aa3499c5328201f1"
   }
  }
 },
 "nbformat": 4,
 "nbformat_minor": 2
}
